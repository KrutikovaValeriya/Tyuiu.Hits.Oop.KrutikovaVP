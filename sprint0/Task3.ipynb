{
 "cells": [
  {
   "cell_type": "markdown",
   "metadata": {},
   "source": [
    "<h1 style=\"color:DodgerBlue\">Индивидальный проект</h1>"
   ]
  },
  {
   "cell_type": "markdown",
   "metadata": {},
   "source": [
    "<h2 style=\"color:DodgerBlue\">Название проекта:</h2>\n",
    "\n",
    "Item\n",
    "\n",
    "### Вариант задания \n",
    "13"
   ]
  },
  {
   "cell_type": "markdown",
   "metadata": {},
   "source": [
    "<h2 style=\"color:DodgerBlue\">Описание проекта:</h2>\n",
    "\n",
    "----\n",
    "\n",
    "\n",
    "Создать базовый класс Inventory в C#, который будет представлять информацию о\n",
    "наличии товаров на складе. На основе этого класса разработать 2-3 производных\n",
    "класса, демонстрирующих принципы наследования и полиморфизма. В каждом из\n",
    "классов должны быть реализованы новые атрибуты и методы, а также\n",
    "переопределены некоторые методы базового класса для демонстрации\n",
    "полиморфизма.\n",
    "\n",
    "\n"
   ]
  },
  {
   "cell_type": "markdown",
   "metadata": {},
   "source": [
    "<h2 style=\"color:DodgerBlue\">Реализация:</h2>\n",
    "\n",
    "----"
   ]
  },
  {
   "cell_type": "code",
   "execution_count": 2,
   "metadata": {
    "dotnet_interactive": {
     "language": "csharp"
    },
    "polyglot_notebook": {
     "kernelName": "csharp"
    }
   },
   "outputs": [],
   "source": [
    "using System;\n",
    "using System.Collections.Generic;\n",
    "\n",
    "\n",
    "public class Inventory\n",
    "{\n",
    "    public int WarehouseId { get; set; }\n",
    "    public string WarehouseName { get; set; }\n",
    "    public int StorageCapacity { get; set; }\n",
    "    private List<string> items;\n",
    "\n",
    "    public Inventory(int warehouseId, string warehouseName, int storageCapacity)\n",
    "    {\n",
    "        WarehouseId = warehouseId;\n",
    "        WarehouseName = warehouseName;\n",
    "        StorageCapacity = storageCapacity;\n",
    "        items = new List<string>();\n",
    "    }\n",
    "\n",
    "    public virtual string GetStorageStatus()\n",
    "    {\n",
    "        return $\"Warehouse {WarehouseName} (ID: {WarehouseId}) has {StorageCapacity - items.Count} free spaces.\";\n",
    "    }\n",
    "\n",
    "    public virtual void AddItem(string item)\n",
    "    {\n",
    "        if (items.Count < StorageCapacity)\n",
    "        {\n",
    "            items.Add(item);\n",
    "            Console.WriteLine($\"Item '{item}' added to {WarehouseName}.\");\n",
    "        }\n",
    "        else\n",
    "        {\n",
    "            Console.WriteLine($\"No space available in {WarehouseName} to add item '{item}'.\");\n",
    "        }\n",
    "    }\n",
    "\n",
    "    public virtual void RemoveItem(string item)\n",
    "    {\n",
    "        if (items.Remove(item))\n",
    "        {\n",
    "            Console.WriteLine($\"Item '{item}' removed from {WarehouseName}.\");\n",
    "        }\n",
    "        else\n",
    "        {\n",
    "            Console.WriteLine($\"Item '{item}' not found in {WarehouseName}.\");\n",
    "        }\n",
    "    }\n",
    "}\n",
    "\n",
    "\n",
    "public class PersonalInventory : Inventory\n",
    "{\n",
    "    public string OwnerName { get; set; }\n",
    "\n",
    "    public PersonalInventory(int warehouseId, string warehouseName, int storageCapacity, string ownerName)\n",
    "        : base(warehouseId, warehouseName, storageCapacity)\n",
    "    {\n",
    "        OwnerName = ownerName;\n",
    "    }\n",
    "\n",
    "    public override string GetStorageStatus()\n",
    "    {\n",
    "        return $\"{base.GetStorageStatus()} Owner: {OwnerName}.\";\n",
    "    }\n",
    "}\n",
    "\n",
    "\n",
    "public class GroupInventory : Inventory\n",
    "{\n",
    "    public string ProductGroup { get; set; }\n",
    "\n",
    "    public GroupInventory(int warehouseId, string warehouseName, int storageCapacity, string productGroup)\n",
    "        : base(warehouseId, warehouseName, storageCapacity)\n",
    "    {\n",
    "        ProductGroup = productGroup;\n",
    "    }\n",
    "\n",
    "    public override void AddItem(string item)\n",
    "    {\n",
    "        base.AddItem(item);\n",
    "        Console.WriteLine($\"Item '{item}' belongs to the group '{ProductGroup}'.\");\n",
    "    }\n",
    "}\n",
    "\n",
    "\n",
    "public class AutomatedInventory : Inventory\n",
    "{\n",
    "    public string AutomationLevel { get; set; }\n",
    "\n",
    "    public AutomatedInventory(int warehouseId, string warehouseName, int storageCapacity, string automationLevel)\n",
    "        : base(warehouseId, warehouseName, storageCapacity)\n",
    "    {\n",
    "        AutomationLevel = automationLevel;\n",
    "    }\n",
    "\n",
    "    public override void RemoveItem(string item)\n",
    "    {\n",
    "        base.RemoveItem(item);\n",
    "        Console.WriteLine($\"Automated removal of item '{item}' at level '{AutomationLevel}'.\");\n",
    "    }\n",
    "}\n",
    "\n",
    "\n",
    "\n",
    "var personalInventory = new PersonalInventory(1, \"Personal Warehouse\", 5, \"John Doe\");\n",
    "personalInventory.AddItem(\"Book\");\n",
    "personalInventory.AddItem(\"Laptop\");\n",
    "Console.WriteLine(personalInventory.GetStorageStatus());\n",
    "\n",
    "var groupInventory = new GroupInventory(2, \"Group Warehouse\", 10, \"Electronics\");\n",
    "groupInventory.AddItem(\"TV\");\n",
    "groupInventory.AddItem(\"Radio\");\n",
    "Console.WriteLine(groupInventory.GetStorageStatus());\n",
    "\n",
    "var automatedInventory = new AutomatedInventory(3, \"Automated Warehouse\", 8, \"High\");\n",
    "automatedInventory.AddItem(\"Robot\");\n",
    "automatedInventory.RemoveItem(\"Robot\");\n",
    "Console.WriteLine(automatedInventory.GetStorageStatus());"
   ]
  }
 ],
 "metadata": {
  "kernelspec": {
   "display_name": ".NET (C#)",
   "language": "C#",
   "name": ".net-csharp"
  },
  "polyglot_notebook": {
   "kernelInfo": {
    "defaultKernelName": "csharp",
    "items": [
     {
      "aliases": [],
      "languageName": "csharp",
      "name": "csharp"
     }
    ]
   }
  }
 },
 "nbformat": 4,
 "nbformat_minor": 2
}
